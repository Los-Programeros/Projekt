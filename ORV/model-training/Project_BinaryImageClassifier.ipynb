{
  "cells": [
    {
      "cell_type": "markdown",
      "metadata": {
        "id": "RkbNpSkmN-_e"
      },
      "source": [
        "# Parametri"
      ]
    },
    {
      "cell_type": "code",
      "execution_count": null,
      "metadata": {
        "id": "hKFH9WUGNKXF"
      },
      "outputs": [],
      "source": [
        "IMAGE_SIZE = 64\n",
        "BATCH_SIZE = 16\n",
        "EPOCHS = 3\n",
        "# %load_ext tensorboard"
      ]
    },
    {
      "cell_type": "markdown",
      "metadata": {
        "id": "ZQIsTrOiOE6C"
      },
      "source": [
        "# Knjižnice"
      ]
    },
    {
      "cell_type": "code",
      "execution_count": null,
      "metadata": {
        "id": "rMrvZQKkNBIh"
      },
      "outputs": [],
      "source": [
        "import zipfile\n",
        "import os\n",
        "import tensorflow as tf\n",
        "from tensorflow.keras.preprocessing.image import ImageDataGenerator, load_img, img_to_array\n",
        "from tensorflow.keras.models import Sequential, load_model\n",
        "from tensorflow.keras.callbacks import EarlyStopping, ReduceLROnPlateau\n",
        "from tensorflow.keras.layers import Dense, Dropout, GlobalAveragePooling2D, Input\n",
        "from tensorflow.keras.applications import MobileNetV2\n",
        "from tensorflow.keras.optimizers import Adam\n",
        "import numpy as np\n",
        "from sklearn.metrics import classification_report, confusion_matrix\n",
        "from sklearn.utils import class_weight"
      ]
    },
    {
      "cell_type": "markdown",
      "metadata": {
        "id": "0qxq60IHOH6R"
      },
      "source": [
        "# Uvoz učnih podatkov"
      ]
    },
    {
      "cell_type": "code",
      "execution_count": null,
      "metadata": {
        "id": "bXfwfJ5bNDnX"
      },
      "outputs": [],
      "source": [
        "zip_path = 'podatki2.zip'\n",
        "extract_path = 'podatki'\n",
        "\n",
        "if not os.path.exists(extract_path):\n",
        "    with zipfile.ZipFile(zip_path, 'r') as zip_ref:\n",
        "        zip_ref.extractall(extract_path)\n",
        "\n",
        "data_dir = extract_path"
      ]
    },
    {
      "cell_type": "markdown",
      "metadata": {
        "id": "KrW_Z5nMOS34"
      },
      "source": [
        "# Razdelitev učnih podatkov"
      ]
    },
    {
      "cell_type": "code",
      "execution_count": null,
      "metadata": {
        "id": "h5zl71AQNJWY"
      },
      "outputs": [],
      "source": [
        "train_generator = ImageDataGenerator(rescale=1./255, validation_split=0.2, fill_mode='nearest').flow_from_directory(\n",
        "    data_dir,\n",
        "    target_size=(IMAGE_SIZE, IMAGE_SIZE),\n",
        "    batch_size=BATCH_SIZE,\n",
        "    class_mode='binary',\n",
        "    subset='training',\n",
        "    shuffle=True\n",
        ")\n",
        "\n",
        "val_generator = ImageDataGenerator(rescale=1./255, validation_split=0.2).flow_from_directory(\n",
        "    data_dir,\n",
        "    target_size=(IMAGE_SIZE, IMAGE_SIZE),\n",
        "    batch_size=BATCH_SIZE,\n",
        "    class_mode='binary',\n",
        "    subset='validation',\n",
        "    shuffle=False\n",
        ")\n",
        "\n",
        "class_weights = dict(enumerate(class_weight.compute_class_weight('balanced', classes=np.unique(train_generator.classes), y=train_generator.classes)))"
      ]
    },
    {
      "cell_type": "markdown",
      "metadata": {
        "id": "UeiUYuimOYNM"
      },
      "source": [
        "# Priprava modela"
      ]
    },
    {
      "cell_type": "code",
      "execution_count": null,
      "metadata": {
        "id": "U3Jg6F4vC_o5"
      },
      "outputs": [],
      "source": [
        "base_model = MobileNetV2(weights='imagenet', include_top=False, input_shape=(IMAGE_SIZE, IMAGE_SIZE, 3))\n",
        "base_model.trainable = False\n",
        "\n",
        "model = Sequential([\n",
        "    Input(shape=(IMAGE_SIZE, IMAGE_SIZE, 3)),\n",
        "    base_model,\n",
        "    GlobalAveragePooling2D(),\n",
        "    Dense(256, activation='relu'),\n",
        "    Dropout(0.5),\n",
        "    Dense(128, activation='relu'),\n",
        "    Dropout(0.3),\n",
        "    Dense(1, activation='sigmoid')\n",
        "])\n",
        "\n",
        "model.compile(optimizer=Adam(learning_rate=0.001), loss='binary_crossentropy', metrics=['accuracy'])"
      ]
    },
    {
      "cell_type": "markdown",
      "metadata": {
        "id": "A3ZwMSYJOcYS"
      },
      "source": [
        "# Treniranje modela"
      ]
    },
    {
      "cell_type": "code",
      "execution_count": null,
      "metadata": {
        "id": "rnMqm0qb-KJO"
      },
      "outputs": [],
      "source": [
        "#tensorboard = TensorBoard(log_dir='./logs', histogram_freq=1)"
      ]
    },
    {
      "cell_type": "code",
      "execution_count": null,
      "metadata": {
        "id": "hacw4ANJOruI"
      },
      "outputs": [],
      "source": [
        "early_stopping = EarlyStopping(monitor='val_loss', patience=10, restore_best_weights=True)\n",
        "reduce_lr = ReduceLROnPlateau(monitor='val_loss', factor=0.5, patience=5, min_lr=0.00001)"
      ]
    },
    {
      "cell_type": "code",
      "execution_count": null,
      "metadata": {
        "id": "nL5r9dlQDPE5"
      },
      "outputs": [],
      "source": [
        "model.fit(train_generator, epochs=EPOCHS, validation_data=val_generator, class_weight=class_weights, callbacks=[early_stopping, reduce_lr])"
      ]
    },
    {
      "cell_type": "code",
      "execution_count": null,
      "metadata": {
        "id": "RUeViJpMQvoA"
      },
      "outputs": [],
      "source": [
        "#%tensorboard --logdir logs/train"
      ]
    },
    {
      "cell_type": "code",
      "execution_count": null,
      "metadata": {
        "id": "dMlkNEI_DmKm"
      },
      "outputs": [],
      "source": [
        "model.save('2FA_model_v2.keras')"
      ]
    },
    {
      "cell_type": "markdown",
      "metadata": {
        "id": "yWStqkYwOkse"
      },
      "source": [
        "# Predikcija"
      ]
    },
    {
      "cell_type": "code",
      "execution_count": null,
      "metadata": {
        "id": "OOLv4KBQDzBQ"
      },
      "outputs": [],
      "source": [
        "def prediction(path, model, class_mapping=None):\n",
        "    image = img_to_array(load_img(path, target_size=(IMAGE_SIZE, IMAGE_SIZE))) / 255.0\n",
        "    image = np.expand_dims(image, axis=0)\n",
        "    prediction = model.predict(image)\n",
        "    prob = prediction[0][0]\n",
        "    predicted_class = 1 if prob > 0.5 else 0\n",
        "    class_name = \"\"\n",
        "    if class_mapping:\n",
        "        inv_mapping = {v: k for k, v in class_mapping.items()}\n",
        "        class_name = f\" ({inv_mapping.get(predicted_class, 'unknown')})\"\n",
        "    print(f\"Raw prediction value: {prob:.4f}\")\n",
        "    print(f\"Predicted Class: {predicted_class}{class_name}\")\n",
        "    print(f\"Confidence: {prob if predicted_class == 1 else 1-prob:.4f}\")"
      ]
    },
    {
      "cell_type": "markdown",
      "metadata": {
        "id": "AvCSDEsOnJMg"
      },
      "source": [
        "# Predikcija"
      ]
    },
    {
      "cell_type": "code",
      "execution_count": null,
      "metadata": {
        "id": "lAvhUAcQDzo-"
      },
      "outputs": [],
      "source": [
        "prediction(\"jozi.jpeg\", model)"
      ]
    },
    {
      "cell_type": "markdown",
      "metadata": {
        "id": "L6BK6-3ynMc4"
      },
      "source": [
        "\n",
        "# Nalaganje modela"
      ]
    },
    {
      "cell_type": "code",
      "execution_count": null,
      "metadata": {
        "id": "bTUKNLjM-aDs"
      },
      "outputs": [],
      "source": [
        "model = load_model(\"2FA_model_v2.keras\")"
      ]
    },
    {
      "cell_type": "markdown",
      "metadata": {
        "id": "_6zqWPN5nQFe"
      },
      "source": [
        "# Croppanje obraza"
      ]
    },
    {
      "cell_type": "code",
      "execution_count": null,
      "metadata": {
        "id": "SxHoqjoHErkF"
      },
      "outputs": [],
      "source": [
        "import cv2\n",
        "import numpy as np\n",
        "import os\n",
        "\n",
        "def crop_face(image_path):\n",
        "    input_dir = os.path.dirname(image_path)\n",
        "    filename = os.path.basename(image_path)\n",
        "    name, ext = os.path.splitext(filename)\n",
        "\n",
        "    if not input_dir:\n",
        "        input_dir = \".\"\n",
        "\n",
        "    image = cv2.imread(image_path)\n",
        "    if image is None:\n",
        "        print(f\"Error: Could not load image from {image_path}\")\n",
        "        return\n",
        "\n",
        "    gray = cv2.cvtColor(image, cv2.COLOR_BGR2GRAY)\n",
        "\n",
        "    face_cascade = cv2.CascadeClassifier(cv2.data.haarcascades + 'haarcascade_frontalface_default.xml')\n",
        "    faces = face_cascade.detectMultiScale(gray, 1.1, 4)\n",
        "\n",
        "    if len(faces) == 0:\n",
        "        print(\"No faces detected in the image.\")\n",
        "        return\n",
        "\n",
        "    if len(faces) > 0:\n",
        "        x, y, w, h = faces[0]\n",
        "        face_crop = image[y:y+h, x:x+w]\n",
        "        output_filename = f\"{name}_output{ext}\"\n",
        "        output_path = os.path.join(input_dir, output_filename)\n",
        "        cv2.imwrite(output_path, face_crop)\n",
        "        print(f\"Saved: {output_path}\")\n",
        "\n",
        "image_path = \"jan.jpg\"\n",
        "crop_face(image_path)"
      ]
    },
    {
      "cell_type": "code",
      "execution_count": null,
      "metadata": {
        "id": "NBz9WDj1fqvd"
      },
      "outputs": [],
      "source": [
        "if __name__ == \"__main__\":\n",
        "    image_path = \"jan.jpg\"\n",
        "    crop_faces(image_path)"
      ]
    }
  ],
  "metadata": {
    "accelerator": "GPU",
    "colab": {
      "collapsed_sections": [
        "ZQIsTrOiOE6C"
      ],
      "gpuType": "T4",
      "provenance": []
    },
    "kernelspec": {
      "display_name": "Python 3",
      "name": "python3"
    },
    "language_info": {
      "name": "python"
    }
  },
  "nbformat": 4,
  "nbformat_minor": 0
}
